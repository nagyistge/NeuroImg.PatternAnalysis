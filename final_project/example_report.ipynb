{
 "cells": [
  {
   "cell_type": "markdown",
   "metadata": {},
   "source": [
    "# Title of your project: fancy subtitle\n",
    "\n",
    "Student 1, student 2, University of Amsterdam, Pattern Analysis 2017"
   ]
  },
  {
   "cell_type": "markdown",
   "metadata": {},
   "source": [
    "## Abstract\n",
    "*Here should be a short abstract about your project, outlining the research question, data, results, and conclusions.* Lorem ipsum dolor sit amet, consectetur adipiscing elit, sed do eiusmod tempor incididunt ut labore et dolore magna aliqua. Ut enim ad minim veniam, quis nostrud exercitation ullamco laboris nisi ut aliquip ex ea commodo consequat. Duis aute irure dolor in reprehenderit in voluptate velit esse cillum dolore eu fugiat nulla pariatur. Excepteur sint occaecat cupidatat non proident, sunt in culpa qui officia deserunt mollit anim id est laborum."
   ]
  },
  {
   "cell_type": "markdown",
   "metadata": {},
   "source": [
    "## Introduction\n",
    "*The introduction should inform the reader about the theoretical background of your topic and lead to the research question of the current study. In other words, the research question should be embedded in the literature and the type of analysis should be motivated.* \n",
    "\n",
    "Sed ut perspiciatis unde omnis iste natus error sit voluptatem accusantium doloremque laudantium, totam rem aperiam, eaque ipsa quae ab illo inventore veritatis et quasi architecto beatae vitae dicta sunt explicabo. Nemo enim ipsam voluptatem quia voluptas sit aspernatur aut odit aut fugit, sed quia consequuntur magni dolores eos qui ratione voluptatem sequi nesciunt. Neque porro quisquam est, qui dolorem ipsum quia dolor sit amet, consectetur, adipisci velit, sed quia non numquam eius modi tempora incidunt ut labore et dolore magnam aliquam quaerat voluptatem. Ut enim ad minima veniam, quis nostrum exercitationem ullam corporis suscipit laboriosam, nisi ut aliquid ex ea commodi consequatur? Quis autem vel eum iure reprehenderit qui in ea voluptate velit esse quam nihil molestiae consequatur, vel illum qui dolorem eum fugiat quo voluptas nulla pariatur?\n",
    "\n",
    "At vero eos et accusamus et iusto odio dignissimos ducimus qui blanditiis praesentium voluptatum deleniti atque corrupti quos dolores et quas molestias excepturi sint occaecati cupiditate non provident, similique sunt in culpa qui officia deserunt mollitia animi, id est laborum et dolorum fuga. Et harum quidem rerum facilis est et expedita distinctio. Nam libero tempore, cum soluta nobis est eligendi optio cumque nihil impedit quo minus id quod maxime placeat facere possimus, omnis voluptas assumenda est, omnis dolor repellendus. Temporibus autem quibusdam et aut officiis debitis aut rerum necessitatibus saepe eveniet ut et voluptates repudiandae sint et molestiae non recusandae. Itaque earum rerum hic tenetur a sapiente delectus, ut aut reiciendis voluptatibus maiores alias consequatur aut perferendis doloribus asperiores repellat."
   ]
  },
  {
   "cell_type": "markdown",
   "metadata": {},
   "source": [
    "## Current study\n",
    "*Goal and relevance of current study and explanation of your hypothesis.* \n",
    "\n",
    "Sed ut perspiciatis unde omnis iste natus error sit voluptatem accusantium doloremque laudantium, totam rem aperiam, eaque ipsa quae ab illo inventore veritatis et quasi architecto beatae vitae dicta sunt explicabo. Nemo enim ipsam voluptatem quia voluptas sit aspernatur aut odit aut fugit, sed quia consequuntur magni dolores eos qui ratione voluptatem sequi nesciunt. Neque porro quisquam est, qui dolorem ipsum quia dolor sit amet, consectetur, adipisci velit, sed quia non numquam eius modi tempora incidunt ut labore et dolore magnam aliquam quaerat voluptatem. Ut enim ad minima veniam, quis nostrum exercitationem ullam corporis suscipit laboriosam, nisi ut aliquid ex ea commodi consequatur? Quis autem vel eum iure reprehenderit qui in ea voluptate velit esse quam nihil molestiae consequatur, vel illum qui dolorem eum fugiat quo voluptas nulla pariatur?"
   ]
  },
  {
   "cell_type": "markdown",
   "metadata": {},
   "source": [
    "## Methods\n",
    "*This is the most important part of your report! Make sure you explain every step in your analysis, and where appropriate, explain your choices! Especially in this section, you may (and are encouraged to!) include code. Below, we outlined a possible organization in subsections and outlined suggestions on what to include (you may structure it differently though, if you prefer). Therefore, the methods may turn out the largest section of your report, but that's fine! This is a methodological course, and this final project is your chance to show your understanding/skills. Note though, that in real articles using pattern analyses, the methods section will likely be more condensed. (For an example of a - quite extensive - methods section of a pattern analysis article, check this [link](https://github.com/lukassnoek/SharedStates/blob/master/patternanalysis_methods_example.pdf); for the full article, click [here](https://github.com/lukassnoek/SharedStates/blob/master/sharedstates_fullarticle_draft.pdf).)* "
   ]
  },
  {
   "cell_type": "markdown",
   "metadata": {},
   "source": [
    "### Experimental stimuli and procedure\n",
    "*Shortly describe the type of stimuli and the procedure of the experiment. This may be brief and the document 'PIOP_description_experiments.pdf' document from Blackboard may be used and paraphrased.*\n",
    "\n",
    "At vero eos et accusamus et iusto odio dignissimos ducimus qui blanditiis praesentium voluptatum deleniti atque corrupti quos dolores et quas molestias excepturi sint occaecati cupiditate non provident, similique sunt in culpa qui officia deserunt mollitia animi, id est laborum et dolorum fuga. Et harum quidem rerum facilis est et expedita distinctio. Nam libero tempore, cum soluta nobis est eligendi optio cumque nihil impedit quo minus id quod maxime placeat facere possimus, omnis voluptas assumenda est, omnis dolor repellendus. Temporibus autem quibusdam et aut officiis debitis aut rerum necessitatibus saepe eveniet ut et voluptates repudiandae sint et molestiae non recusandae. Itaque earum rerum hic tenetur a sapiente delectus, ut aut reiciendis voluptatibus maiores alias consequatur aut perferendis doloribus asperiores repellat."
   ]
  },
  {
   "cell_type": "markdown",
   "metadata": {},
   "source": [
    "### Pattern estimation and data representation\n",
    "*Here, you should describe how you estimated your patterns. For example, what did you use for activity estimates - $\\beta$-values, t-values, single TRs with raw activity? Also, did you have a single-trial design (for within-subject analyses) or condition-average design (for between-subject analyses)? In the latter case, what contrast did you use? If you use more than one 'feature-set' (e.g. in cross-decoding), decribe clearly both procedures.*\n",
    "\n",
    "*Also, explain how you loaded and represented the data in its initial format (i.e. sample-by-voxel array format). This is a good moment to show some code, e.g. your custom Mvp class.*"
   ]
  },
  {
   "cell_type": "code",
   "execution_count": 2,
   "metadata": {
    "collapsed": false
   },
   "outputs": [],
   "source": [
    "class Mvp(object):\n",
    "    \"\"\" This is a custom class that represents a Multivoxel pattern.\n",
    "    \n",
    "    Here you can describe the object in more detail. Below, you can\n",
    "    describe the parameters it takes, and what attributes it has.\n",
    "    For the recommended formatting, check the following link:\n",
    "    https://github.com/numpy/numpy/blob/master/doc/HOWTO_DOCUMENT.rst.txt\n",
    "    \n",
    "    Parameters\n",
    "    ----------\n",
    "    paths : list\n",
    "        A list with all the to-be-loaded nifti-files\n",
    "    other_param : class\n",
    "        Description of the parameter!\n",
    "        \n",
    "    Attributes\n",
    "    ----------\n",
    "    X : numpy-array\n",
    "        Array of shape [n_samples, n_voxels]\n",
    "    y : list or numpy-array\n",
    "        List/array with numeric values representing targets\n",
    "    other_attribute : type\n",
    "        Description of other custom attributes.\n",
    "    \"\"\"\n",
    "    \n",
    "    def __init__(self, arg1, arg2):\n",
    "        # Does not need to be documented, because is already done above\n",
    "        self.arg1 = arg1\n",
    "        self.arg2 = arg2\n",
    "        \n",
    "    def load(self):\n",
    "        \"\"\" Documentation of load-method. \"\"\"\n",
    "        pass\n",
    "    \n",
    "    def preprocess(self, option1, arg2):\n",
    "        \"\"\" Documentation of preprocess method.\n",
    "        \n",
    "        May also include extra details and documentation\n",
    "        of parameters.\n",
    "        \n",
    "        Parameters\n",
    "        ----------\n",
    "        option1 : bool\n",
    "            Description of option1.\n",
    "        arg2 : str\n",
    "            Description of arg2.\n",
    "        \n",
    "        Returns\n",
    "        -------\n",
    "        out_array : numpy-array\n",
    "            Description of return arguments (if any!)\n",
    "        \"\"\"\n",
    "        \n",
    "        pass"
   ]
  },
  {
   "cell_type": "markdown",
   "metadata": {},
   "source": [
    "*Here, you can start describing how you used your custom class above to organize your data. Again, mix code and text to illustrate your point!*\n",
    "\n",
    "*For example:*\n",
    "\n",
    "We loaded the patterns and organized them using the custom Mvp class outlined above:"
   ]
  },
  {
   "cell_type": "code",
   "execution_count": 5,
   "metadata": {
    "collapsed": false
   },
   "outputs": [],
   "source": [
    "from glob import glob\n",
    "paths = glob('path/to/tstats/tstat*.nii.gz')\n",
    "\n",
    "mvp = Mvp(paths, True) # nonsense arguments"
   ]
  },
  {
   "cell_type": "markdown",
   "metadata": {},
   "source": [
    "### Data preprocessing\n",
    "*Here you can outline your data preprocessing, e.g. normalization, application of masks, etc. Again, mix code and text to illustrate your point!*"
   ]
  },
  {
   "cell_type": "code",
   "execution_count": null,
   "metadata": {
    "collapsed": true
   },
   "outputs": [],
   "source": [
    "mvp.preprocess()"
   ]
  },
  {
   "cell_type": "markdown",
   "metadata": {},
   "source": [
    "### Stimulus-feature extraction (RSA)\n",
    "*If you're using an RSA-type analysis, you can describe which stimulus/task-features you used to create the candidate RDM. E.g., we extracted 5 features from each image, namely such and so. This yielded a pattern of 5 values per image which we loaded in as follows ... Etc. You can also show code here to demonstrate how you did this.*"
   ]
  },
  {
   "cell_type": "markdown",
   "metadata": {},
   "source": [
    "### RDM creation (RSA)\n",
    "*Here you can describe how you created your RDMs. What distance metric did you use? What are the dimensions of the RDMs? Maybe include the function you used to create the candidate and neural RDMs?*"
   ]
  },
  {
   "cell_type": "code",
   "execution_count": null,
   "metadata": {
    "collapsed": true
   },
   "outputs": [],
   "source": [
    "def create_rdm_from_mvp(arg1, arg2):\n",
    "    # some code\n",
    "    pass\n",
    "\n",
    "rdm = create_rdm_from_mvp(mvp, arg2)"
   ]
  },
  {
   "cell_type": "markdown",
   "metadata": {},
   "source": [
    "### Machine learning pipeline (ML)\n",
    "*If you're using machine learning, this is the section where you could explain what steps are included in your pipeline. Do you use some kind of feature selection (or feature extraction)? What type of model (classifier/regressor) do you use? What hyperparameters do you use (and, if they deviate from the standard settings, why?)? What type of cross-validation scheme did you use? How many folds? Etc. etc. Also, actually show your pipeline as code!*"
   ]
  },
  {
   "cell_type": "code",
   "execution_count": null,
   "metadata": {
    "collapsed": true
   },
   "outputs": [],
   "source": [
    "from sklearn.pipeline import Pipeline\n",
    "from sklearn.feature_selection import f_classif, SelectKBest\n",
    "from sklearn.svm import SVM\n",
    "\n",
    "pipe = Pipeline([('ufs', SelectKBest(f_classif, k=100)),\n",
    "                 ('svm', SVC(kernel='linear', C=0.001))])\n",
    "\n",
    "# Then, show your cross-validation loop here!\n"
   ]
  },
  {
   "cell_type": "markdown",
   "metadata": {},
   "source": [
    "### Model performance and statistical evaluation \n",
    "*Here you'd write about how you evaluated the outcome of your pattern analysis. For example, if you performed a decoding analysis, what model performance metric did you use (accuracy? F1-score?)? How did you establish (non-)significance? How did you implement your permutation analysis? Again, show your code! Also, you could show some code that outputs some nice plots showing your results!*"
   ]
  },
  {
   "cell_type": "markdown",
   "metadata": {},
   "source": [
    "### Feature/RDM visualization\n",
    "*You can make a separate section to show, for example, feature weights (in decoding analyses) or your RDMs for different metrics*"
   ]
  },
  {
   "cell_type": "markdown",
   "metadata": {},
   "source": [
    "## Discussion & conclusions\n",
    "*In this section(s), interpret your results. What do they mean? Are there potential confounds? What are the limitations? What would you do if you could redo the experiment (or had more time)?*\n",
    "\n",
    "At vero eos et accusamus et iusto odio dignissimos ducimus qui blanditiis praesentium voluptatum deleniti atque corrupti quos dolores et quas molestias excepturi sint occaecati cupiditate non provident, similique sunt in culpa qui officia deserunt mollitia animi, id est laborum et dolorum fuga. Et harum quidem rerum facilis est et expedita distinctio. Nam libero tempore, cum soluta nobis est eligendi optio cumque nihil impedit quo minus id quod maxime placeat facere possimus, omnis voluptas assumenda est, omnis dolor repellendus. Temporibus autem quibusdam et aut officiis debitis aut rerum necessitatibus saepe eveniet ut et voluptates repudiandae sint et molestiae non recusandae. Itaque earum rerum hic tenetur a sapiente delectus, ut aut reiciendis voluptatibus maiores alias consequatur aut perferendis doloribus asperiores repellat.\n",
    "\n",
    "----------------"
   ]
  },
  {
   "cell_type": "markdown",
   "metadata": {},
   "source": [
    "### Misc. tips/comments\n",
    "Find some tips/comments/advice to make your report (even) better below:\n",
    "\n",
    "* Write your report as if you want to convince a reviewer that your study and analyses are proper and valid! Assume that (s)he is knowledgeable of pattern analyses, but wants to know exactly *how* you implemented them (for possible replication, for example);<br><br>\n",
    "* You can include images in the notebook as well! I always use [this cheatsheet](https://github.com/adam-p/markdown-here/wiki/Markdown-Cheatsheet) to check how this is done;<br><br>\n",
    "* The suggested structure/what-to-include is, by all means, a suggestion! If you think your report is structured better in a different way, go for it! As long as it is clear to us what (and *why*) you've done your analyses;<br><br>\n",
    "* Instead of including code in the notebook itself, you can also write your classes, functions, etc., in a separate module (a something.py file) and then import stuff from that module in the notebook, like: `from my_functions.py import Mvp, convert_mvp_to_rdm`. If you do this, make sure the `something.py` module with your code is in the same directory as your final-project notebook!<br><br>\n"
   ]
  }
 ],
 "metadata": {
  "kernelspec": {
   "display_name": "Python 2",
   "language": "python",
   "name": "python2"
  },
  "language_info": {
   "codemirror_mode": {
    "name": "ipython",
    "version": 2
   },
   "file_extension": ".py",
   "mimetype": "text/x-python",
   "name": "python",
   "nbconvert_exporter": "python",
   "pygments_lexer": "ipython2",
   "version": "2.7.13"
  }
 },
 "nbformat": 4,
 "nbformat_minor": 2
}
